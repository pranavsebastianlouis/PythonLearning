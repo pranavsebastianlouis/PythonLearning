{
 "cells": [
  {
   "cell_type": "code",
   "execution_count": 11,
   "id": "b8294b02-0e2d-481e-b0bb-89fcf88433fc",
   "metadata": {},
   "outputs": [],
   "source": [
    "import os\n",
    "from os import path\n",
    "import datetime\n",
    "from datetime import date,time,timedelta\n",
    "import time"
   ]
  },
  {
   "cell_type": "markdown",
   "id": "e5864199-8477-4619-8b43-f7bf5472b59a",
   "metadata": {},
   "source": [
    "## OS name"
   ]
  },
  {
   "cell_type": "code",
   "execution_count": 3,
   "id": "089a72ef-fe97-4e46-873c-9cc3993b3ce4",
   "metadata": {},
   "outputs": [
    {
     "name": "stdout",
     "output_type": "stream",
     "text": [
      "nt\n"
     ]
    }
   ],
   "source": [
    "print(os.name)"
   ]
  },
  {
   "cell_type": "markdown",
   "id": "345a6ca1-0573-486f-8670-3315bc46f143",
   "metadata": {},
   "source": [
    "## Check if path exists"
   ]
  },
  {
   "cell_type": "code",
   "execution_count": 4,
   "id": "0faa6040-349c-4a92-add9-d4645cbf19f1",
   "metadata": {},
   "outputs": [
    {
     "data": {
      "text/plain": [
       "True"
      ]
     },
     "execution_count": 4,
     "metadata": {},
     "output_type": "execute_result"
    }
   ],
   "source": [
    "path.exists(\"sample.txt\")"
   ]
  },
  {
   "cell_type": "markdown",
   "id": "9d7604c5-9f0f-4427-857b-0f598b57b45e",
   "metadata": {},
   "source": [
    "## Check if the item is a file or a directory."
   ]
  },
  {
   "cell_type": "code",
   "execution_count": 18,
   "id": "dd856658-3c51-45db-a9df-44e63e12a602",
   "metadata": {},
   "outputs": [
    {
     "data": {
      "text/plain": [
       "True"
      ]
     },
     "execution_count": 18,
     "metadata": {},
     "output_type": "execute_result"
    }
   ],
   "source": [
    "path.isfile(\"sample.txt\")"
   ]
  },
  {
   "cell_type": "code",
   "execution_count": 6,
   "id": "c301dea9-c97d-4c30-8e79-5de94728e96b",
   "metadata": {},
   "outputs": [
    {
     "data": {
      "text/plain": [
       "False"
      ]
     },
     "execution_count": 6,
     "metadata": {},
     "output_type": "execute_result"
    }
   ],
   "source": [
    "path.isdir(\"sample.txt\")"
   ]
  },
  {
   "cell_type": "markdown",
   "id": "6a8b931b-b1d8-462e-afa4-62f1d02d1c47",
   "metadata": {},
   "source": [
    "## Find the complete path of the item"
   ]
  },
  {
   "cell_type": "code",
   "execution_count": 19,
   "id": "df0222ae-71d9-4cad-8f93-79ddfbad1b79",
   "metadata": {},
   "outputs": [
    {
     "name": "stdout",
     "output_type": "stream",
     "text": [
      "E:\\ICT\\sample.txt\n"
     ]
    }
   ],
   "source": [
    "c = path.realpath(\"sample.txt\")\n",
    "print(c)"
   ]
  },
  {
   "cell_type": "markdown",
   "id": "c29ef9b8-6fe5-485a-9b53-96f9370bfad5",
   "metadata": {},
   "source": [
    "## Split the path into a tuple containing the path and filename seperate."
   ]
  },
  {
   "cell_type": "code",
   "execution_count": 8,
   "id": "d8fd2db9-c2f4-4d9c-ad17-512f1471ea02",
   "metadata": {},
   "outputs": [
    {
     "data": {
      "text/plain": [
       "('E:\\\\ICT', 'sample.txt')"
      ]
     },
     "execution_count": 8,
     "metadata": {},
     "output_type": "execute_result"
    }
   ],
   "source": [
    "path.split(c)"
   ]
  },
  {
   "cell_type": "markdown",
   "id": "b562eecd-0d70-4a52-bcf3-09b0fce8e7b4",
   "metadata": {},
   "source": [
    "## Get the modification time of the file."
   ]
  },
  {
   "cell_type": "code",
   "execution_count": 9,
   "id": "bb2ec530-08ec-4b1a-a40e-e99e7225e4b8",
   "metadata": {},
   "outputs": [
    {
     "data": {
      "text/plain": [
       "1740637955.0584495"
      ]
     },
     "execution_count": 9,
     "metadata": {},
     "output_type": "execute_result"
    }
   ],
   "source": [
    "mod_time = path.getmtime(\"sample.txt\")\n",
    "mod_time# this will be in seconds since the last epoch that is Jan 1 1970"
   ]
  },
  {
   "cell_type": "markdown",
   "id": "5c26931b-2268-43e0-8087-ae8c4c711aea",
   "metadata": {},
   "source": [
    "## To get the modification time in human readable format use  \n",
    "### Method _ 1"
   ]
  },
  {
   "cell_type": "code",
   "execution_count": 12,
   "id": "f86095df-9418-49d8-b236-00234b19fe22",
   "metadata": {},
   "outputs": [
    {
     "data": {
      "text/plain": [
       "'Thu Feb 27 12:02:35 2025'"
      ]
     },
     "execution_count": 12,
     "metadata": {},
     "output_type": "execute_result"
    }
   ],
   "source": [
    "time.ctime(mod_time)"
   ]
  },
  {
   "cell_type": "markdown",
   "id": "e05a67f2-ed5f-46ae-9a55-12ca638dfd62",
   "metadata": {},
   "source": [
    "### Method_2"
   ]
  },
  {
   "cell_type": "code",
   "execution_count": 16,
   "id": "97cf0d4c-0db9-4ad4-9c95-d4ba8c5c0c05",
   "metadata": {},
   "outputs": [
    {
     "name": "stdout",
     "output_type": "stream",
     "text": [
      "2025-02-27 12:02:35.058450\n"
     ]
    }
   ],
   "source": [
    "print(datetime.datetime.fromtimestamp(mod_time)) #use print()"
   ]
  },
  {
   "cell_type": "markdown",
   "id": "6ae79967-e612-4069-a9dc-0168f9d6a2d0",
   "metadata": {},
   "source": [
    "## To get how much time has elapsed since last modification."
   ]
  },
  {
   "cell_type": "code",
   "execution_count": 20,
   "id": "2d08c78d-00db-498c-8bf2-f76fbd58348f",
   "metadata": {},
   "outputs": [
    {
     "name": "stdout",
     "output_type": "stream",
     "text": [
      "2 days, 11:34:27.383430\n"
     ]
    }
   ],
   "source": [
    "print(datetime.datetime.now()- datetime.datetime.fromtimestamp(mod_time))# now() gives the current time."
   ]
  },
  {
   "cell_type": "code",
   "execution_count": 28,
   "id": "9eafa032-333c-4aaf-a450-acd9b25563c1",
   "metadata": {},
   "outputs": [],
   "source": [
    "td = datetime.datetime.now()- datetime.datetime.fromtimestamp(mod_time) #we are creating a time delta"
   ]
  },
  {
   "cell_type": "code",
   "execution_count": 31,
   "id": "39b4981f-4163-4ca6-944f-c2f08481d844",
   "metadata": {},
   "outputs": [
    {
     "name": "stdout",
     "output_type": "stream",
     "text": [
      "3582.2915861\n"
     ]
    }
   ],
   "source": [
    "#we can use object td to showus in seconds or minutes as required\n",
    "print(td.total_seconds())"
   ]
  },
  {
   "cell_type": "code",
   "execution_count": 44,
   "id": "2974d5ef-85fb-41cf-8d5c-271dc012b511",
   "metadata": {},
   "outputs": [
    {
     "data": {
      "text/plain": [
       "'3582.2915861 minutes.'"
      ]
     },
     "execution_count": 44,
     "metadata": {},
     "output_type": "execute_result"
    }
   ],
   "source": [
    "def total_minutes(time_delta):\n",
    "    return f\"{(time_delta.total_seconds()/60)} minutes.\"\n",
    "total_minutes(td)"
   ]
  },
  {
   "cell_type": "markdown",
   "id": "02258a95-fe88-4a8d-a643-1fa73672f986",
   "metadata": {},
   "source": [
    "## Get the creation time of file"
   ]
  },
  {
   "cell_type": "code",
   "execution_count": 45,
   "id": "9ea373dc-ed19-4a80-9a72-92f485cf9823",
   "metadata": {},
   "outputs": [
    {
     "data": {
      "text/plain": [
       "1740636765.6858072"
      ]
     },
     "execution_count": 45,
     "metadata": {},
     "output_type": "execute_result"
    }
   ],
   "source": [
    "path.getctime('sample.txt')"
   ]
  },
  {
   "cell_type": "markdown",
   "id": "ad0753ed-0bad-4125-baa2-abc4f2e576dd",
   "metadata": {},
   "source": [
    "## To get it in human readable format we can either use time.ctime() or datetime.fromtimestamp()"
   ]
  },
  {
   "cell_type": "code",
   "execution_count": 46,
   "id": "d368750c-be2d-4d4c-a957-53fee9d4518e",
   "metadata": {},
   "outputs": [
    {
     "data": {
      "text/plain": [
       "'Thu Feb 27 11:42:45 2025'"
      ]
     },
     "execution_count": 46,
     "metadata": {},
     "output_type": "execute_result"
    }
   ],
   "source": [
    "time.ctime(path.getctime('sample.txt'))"
   ]
  },
  {
   "cell_type": "code",
   "execution_count": 47,
   "id": "0bcb31a6-bf3f-4fed-9173-1965a5fdc0b7",
   "metadata": {},
   "outputs": [
    {
     "name": "stdout",
     "output_type": "stream",
     "text": [
      "2025-02-27 11:42:45.685807\n"
     ]
    }
   ],
   "source": [
    "#or\n",
    "print(datetime.datetime.fromtimestamp(path.getctime(\"sample.txt\")))"
   ]
  },
  {
   "cell_type": "code",
   "execution_count": 48,
   "id": "e4a53c3e-f074-46eb-a72d-8ca95afebbad",
   "metadata": {},
   "outputs": [],
   "source": [
    "creation_t = (datetime.datetime.fromtimestamp(path.getctime(\"sample.txt\"))) "
   ]
  },
  {
   "cell_type": "markdown",
   "id": "025efd78-d351-44e1-80db-3e3f8815a322",
   "metadata": {},
   "source": [
    "## How much time has elapsed since creation ; we need to create a time delta"
   ]
  },
  {
   "cell_type": "code",
   "execution_count": 49,
   "id": "c97b14a6-8ab1-4bf6-9db5-35a6a1b1a179",
   "metadata": {},
   "outputs": [
    {
     "name": "stdout",
     "output_type": "stream",
     "text": [
      "2 days, 12:10:35.657104\n"
     ]
    }
   ],
   "source": [
    "td_creation = datetime.datetime.now() - creation_t\n",
    "print(td_creation)"
   ]
  },
  {
   "cell_type": "code",
   "execution_count": 50,
   "id": "47f7db66-897c-4804-a403-78e5961750b0",
   "metadata": {},
   "outputs": [
    {
     "name": "stdout",
     "output_type": "stream",
     "text": [
      "216635.657104\n"
     ]
    }
   ],
   "source": [
    "print(td_creation.total_seconds())# to see how much seconds since created"
   ]
  },
  {
   "cell_type": "code",
   "execution_count": 51,
   "id": "2605af40-6052-4c9e-84d8-4f7159e855b9",
   "metadata": {},
   "outputs": [
    {
     "data": {
      "text/plain": [
       "'3610.594285066667 minutes.'"
      ]
     },
     "execution_count": 51,
     "metadata": {},
     "output_type": "execute_result"
    }
   ],
   "source": [
    "total_minutes(td_creation) # a function created earlier to show minutes"
   ]
  },
  {
   "cell_type": "code",
   "execution_count": null,
   "id": "76c4b346-362d-4a1d-9836-7d9608e94cbc",
   "metadata": {},
   "outputs": [],
   "source": []
  },
  {
   "cell_type": "code",
   "execution_count": null,
   "id": "b13a3639-ec2d-4b77-b00e-4d87a759264e",
   "metadata": {},
   "outputs": [],
   "source": []
  }
 ],
 "metadata": {
  "kernelspec": {
   "display_name": "Python 3 (ipykernel)",
   "language": "python",
   "name": "python3"
  },
  "language_info": {
   "codemirror_mode": {
    "name": "ipython",
    "version": 3
   },
   "file_extension": ".py",
   "mimetype": "text/x-python",
   "name": "python",
   "nbconvert_exporter": "python",
   "pygments_lexer": "ipython3",
   "version": "3.13.2"
  }
 },
 "nbformat": 4,
 "nbformat_minor": 5
}
